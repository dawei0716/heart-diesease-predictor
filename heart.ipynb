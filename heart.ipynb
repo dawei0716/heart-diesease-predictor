{
 "cells": [
  {
   "cell_type": "code",
   "execution_count": 5,
   "metadata": {},
   "outputs": [
    {
     "name": "stdout",
     "output_type": "stream",
     "text": [
      "<class 'pandas.core.series.Series'>\n",
      "0.7704918032786885\n",
      "Enter age: 1\n",
      "Enter sex: 1\n",
      "Enter cp: 1\n",
      "Enter trestbps: 1\n",
      "Enter chol: 1\n",
      "Enter fbs: 1\n",
      "Enter restecg: 1\n",
      "Enter thalach: 1\n",
      "Enter exang: 1\n",
      "Enter oldpeak: 1\n",
      "Enter slope: 1\n",
      "Enter ca: 1\n",
      "Enter thal: 1\n",
      "<class 'int'>\n",
      "[0]\n"
     ]
    }
   ],
   "source": [
    "# Load modules\n",
    "from pandas import read_csv\n",
    "from sklearn.model_selection import train_test_split\n",
    "from sklearn.metrics import accuracy_score\n",
    "from sklearn.svm import SVC\n",
    "from sklearn.linear_model import LogisticRegression\n",
    "import pandas as pd\n",
    "from sklearn.naive_bayes import GaussianNB\n",
    " \n",
    "# Load dataset\n",
    "df = pd.read_csv(\"heart_data.csv\", error_bad_lines=False)\n",
    "# Split into training data and test data\n",
    "X = df[['age', 'sex', 'cp', 'trestbps', 'chol', 'fbs', 'restecg', 'thalach', 'exang', 'oldpeak', 'slope','ca','thal']]\n",
    "y = df['target']\n",
    "print(type(y))\n",
    "\n",
    "# Normalize data\n",
    "#X = (X - np.min(X)) / (np.max(X) - np.min(X)).values\n",
    "\n",
    "# Create training and testing vars, It’s usually around 80/20 or 70/30.\n",
    "X_train, X_test, Y_train, Y_test = train_test_split(X, y, test_size=0.20, random_state=1)\n",
    "\n",
    "# Now we’ll fit the model on the training data\n",
    "model = GaussianNB()\n",
    "model.fit(X_train, Y_train)\n",
    "# Make predictions on validation dataset\n",
    "predictions = model.predict(X_test)\n",
    "\n",
    "\n",
    "#evalulate predictions\n",
    "print(accuracy_score(Y_test, predictions))\n",
    "# Pickle model \n",
    "pd.to_pickle(model,'new_model.pickle')\n",
    "\n",
    "# Unpickle model \n",
    "model = pd.read_pickle(r'new_model.pickle') \n",
    "\n",
    "# read a pickle pd.read_pickle('model.pkl')\n",
    "\n",
    "# Take input from user\n",
    "age = int(input(\"Enter age: \"))\n",
    "sex = int(input(\"Enter sex: \"))\n",
    "cp = int(input(\"Enter cp: \"))\n",
    "trestbps = int(input(\"Enter trestbps: \"))\n",
    "chol = int(input(\"Enter chol: \"))\n",
    "fbs = int(input(\"Enter fbs: \"))\n",
    "restecg = int(input(\"Enter restecg: \"))\n",
    "thalach = int(input(\"Enter thalach: \"))\n",
    "exang = int(input(\"Enter exang: \"))\n",
    "oldpeak = float(input(\"Enter oldpeak: \"))\n",
    "slope = int(input(\"Enter slope: \"))\n",
    "ca = int(input(\"Enter ca: \"))\n",
    "thal = int(input(\"Enter thal: \"))\n",
    "print(type(thal))\n",
    "result = model.predict([[age,sex,cp,trestbps,chol,fbs,restecg,thalach,exang,oldpeak,slope,ca,thal]])  # input must be 2D array\n",
    "print(result)"
   ]
  },
  {
   "cell_type": "markdown",
   "metadata": {},
   "source": [
    "# "
   ]
  }
 ],
 "metadata": {
  "kernelspec": {
   "display_name": "Python 3",
   "language": "python",
   "name": "python3"
  }
 },
 "nbformat": 4,
 "nbformat_minor": 4
}
